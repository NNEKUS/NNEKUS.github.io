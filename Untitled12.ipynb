{
  "nbformat": 4,
  "nbformat_minor": 0,
  "metadata": {
    "colab": {
      "provenance": [],
      "authorship_tag": "ABX9TyMgJkPZW+zkEjA3NKKbLyt0",
      "include_colab_link": true
    },
    "kernelspec": {
      "name": "python3",
      "display_name": "Python 3"
    },
    "language_info": {
      "name": "python"
    }
  },
  "cells": [
    {
      "cell_type": "markdown",
      "metadata": {
        "id": "view-in-github",
        "colab_type": "text"
      },
      "source": [
        "<a href=\"https://colab.research.google.com/github/NNEKUS/NNEKUS.github.io/blob/main/Untitled12.ipynb\" target=\"_parent\"><img src=\"https://colab.research.google.com/assets/colab-badge.svg\" alt=\"Open In Colab\"/></a>"
      ]
    },
    {
      "cell_type": "code",
      "execution_count": null,
      "metadata": {
        "id": "yQuZjAAZ3n28"
      },
      "outputs": [],
      "source": [
        "<!DOCTYPE html>\n",
        "<html lang=\"en\">\n",
        "<head>\n",
        "    <meta charset=\"UTF-8\">\n",
        "    <meta name=\"viewport\" content=\"width=device-width, initial-scale=1.0\">\n",
        "    <title>Nneka Godsgift-Ofou</title>\n",
        "    <style>\n",
        "        body {\n",
        "            font-family: Arial, sans-serif;\n",
        "            margin: 20px;\n",
        "            padding: 20px;\n",
        "            background-color: #f7f7f7;\n",
        "        }\n",
        "        header {\n",
        "            text-align: center;\n",
        "            margin-bottom: 20px;\n",
        "        }\n",
        "        section {\n",
        "            margin-bottom: 20px;\n",
        "        }\n",
        "        h1, h2, p {\n",
        "            color: #333;\n",
        "        }\n",
        "    </style>\n",
        "</head>\n",
        "<body>\n",
        "    <header>\n",
        "        <h1>Nneka Godsgift-Ofou</h1>\n",
        "        <p>Microbiologist | Data Engineer | Fashion Entrepreneur | Admin/HR Manager</p>\n",
        "    </header>\n",
        "\n",
        "    <section>\n",
        "        <h2>About Me</h2>\n",
        "        <p>\n",
        "            Hello, I'm Nneka Godsgift-Ofou, a scientist and data engineer with a background in microbiology. I've worked in diverse fields, including banking and fashion entrepreneurship. Currently, I serve as an Admin/HR Manager. My passion lies in analyzing health data to make a positive impact.\n",
        "        </p>\n",
        "    </section>\n",
        "\n",
        "    <section>\n",
        "        <h2>Passions and Hobbies</h2>\n",
        "        <p>\n",
        "            I have a deep passion for knowledge, learning, science, and health. As a microbiologist and data engineer, I am dedicated to leveraging data for insights in the health domain. Outside of work, you'll find me immersed in books, fulfilling my love for reading. I also have a keen interest in traveling and hope to explore the world once I am financially buoyant enough.\n",
        "        </p>\n",
        "    </section>\n",
        "\n",
        "    <footer>\n",
        "        <p>Contact: [Your Email Address]</p>\n",
        "    </footer>\n",
        "</body>\n",
        "</html>\n"
      ]
    }
  ]
}